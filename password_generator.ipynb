{
 "cells": [
  {
   "cell_type": "code",
   "execution_count": 4,
   "id": "c7225292-255b-4999-aea6-9c1939b0e38c",
   "metadata": {},
   "outputs": [
    {
     "name": "stdout",
     "output_type": "stream",
     "text": [
      "Welcome to the PyPassword Generator!\n"
     ]
    },
    {
     "name": "stdin",
     "output_type": "stream",
     "text": [
      "How many letters would you like in your password?\n",
      " 5\n",
      "How many symbols would you like?\n",
      " 4\n",
      "How many numbers would you like?\n",
      " 3\n"
     ]
    },
    {
     "name": "stdout",
     "output_type": "stream",
     "text": [
      "Here is your password: K3)cQ1%xd)!2\n",
      "Your password is strong.\n"
     ]
    }
   ],
   "source": [
    "import random\n",
    "\n",
    "letters = ['a', 'b', 'c', 'd', 'e', 'f', 'g', 'h', 'i', 'j', 'k', 'l', 'm', 'n', 'o', 'p', 'q', 'r', 's', 't', 'u', 'v', 'w', 'x', 'y', 'z', 'A', 'B', 'C', 'D', 'E', 'F', 'G', 'H', 'I', 'J', 'K', 'L', 'M', 'N', 'O', 'P', 'Q', 'R', 'S', 'T', 'U', 'V', 'W', 'X', 'Y', 'Z']\n",
    "numbers = ['0', '1', '2', '3', '4', '5', '6', '7', '8', '9']\n",
    "symbols = ['!', '#', '$', '%', '&', '(', ')', '*', '+']\n",
    "\n",
    "print(\"Welcome to the PyPassword Generator!\")\n",
    "nr_letters= (input(\"How many letters would you like in your password?\\n\"))\n",
    "nr_symbols = (input(f\"How many symbols would you like?\\n\"))\n",
    "nr_numbers = (input(f\"How many numbers would you like?\\n\"))\n",
    "\n",
    "if not nr_letters.isdigit() or not nr_symbols.isdigit() or not nr_numbers.isdigit():\n",
    "  print(\"Invalid value, enter a number instead.\")\n",
    "else:\n",
    "  password = []\n",
    "\n",
    "  random_letter = random.randint(0, 51)\n",
    "  for i in range(0, int(nr_letters)):\n",
    "    random_letter = random.randint(0, 51)\n",
    "    password.append(letters[random_letter])\n",
    "\n",
    "  random_number = random.randint(0,9)\n",
    "  for i in range(0, int(nr_numbers)):\n",
    "    random_number = random.randint(0,9)\n",
    "    password.append(numbers[random_number])\n",
    "\n",
    "  random_symbol = random.randint(0,8)\n",
    "  for i in range(0, int(nr_symbols)):\n",
    "    random_symbol = random.randint(0,8)\n",
    "    password.append(symbols[random_symbol])\n",
    "\n",
    "  random.shuffle(password)\n",
    "  print(f\"Here is your password: {''.join(password)}\")\n",
    "\n",
    "  if len(password) <= 6:\n",
    "    print(\"Your password is weak, try to include at least 8 characters for a stronger password.\")\n",
    "  elif len(password) == 7:\n",
    "    print(\"Your password is medium, try to include at least 8 characters for a stronger password.\")\n",
    "  else:\n",
    "    print(\"Your password is strong.\")\n"
   ]
  },
  {
   "cell_type": "code",
   "execution_count": null,
   "id": "4922c41c-a579-4eb0-9cb6-629f6bf8ceeb",
   "metadata": {},
   "outputs": [],
   "source": []
  }
 ],
 "metadata": {
  "kernelspec": {
   "display_name": "Python 3 (ipykernel)",
   "language": "python",
   "name": "python3"
  },
  "language_info": {
   "codemirror_mode": {
    "name": "ipython",
    "version": 3
   },
   "file_extension": ".py",
   "mimetype": "text/x-python",
   "name": "python",
   "nbconvert_exporter": "python",
   "pygments_lexer": "ipython3",
   "version": "3.12.4"
  }
 },
 "nbformat": 4,
 "nbformat_minor": 5
}
